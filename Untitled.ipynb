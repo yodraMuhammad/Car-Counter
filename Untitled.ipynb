{
 "cells": [
  {
   "cell_type": "code",
   "execution_count": 1,
   "id": "935f9adb",
   "metadata": {},
   "outputs": [],
   "source": [
    "import time\n",
    "import cv2\n",
    "import numpy as np\n",
    "import math"
   ]
  },
  {
   "cell_type": "code",
   "execution_count": 2,
   "id": "e99a495c",
   "metadata": {},
   "outputs": [
    {
     "name": "stdout",
     "output_type": "stream",
     "text": [
      "Load MobileNetSSD model\n"
     ]
    }
   ],
   "source": [
    "print(\"Load MobileNetSSD model\")\n",
    "\n",
    "prototxt_path = \"MobileNetSSD_deploy.prototxt\"\n",
    "model_path = \"MobileNetSSD_deploy.caffemodel\"\n",
    "\n",
    "CLASSES =[\"background\",  \"aeroplane\",  \"bicycle\",  \"bird\",  \"boat\",\n",
    "          \"bottle\",\"bus\",  \"car\",   \"cat\", \"chair\", \"cow\", \"diningtable\",\n",
    "          \"dog\",  \"horse\",  \"motorbike\",  \"person\",  \"pottedplant\",  \"sheep\",\n",
    "          \"sofa\",  \"train\",  \"tvmonitor\"]\n",
    "    \n",
    "net = cv2.dnn.readNetFromCaffe(prototxt_path,  model_path)\n",
    "\n",
    "pos_line=550\n",
    "offset=50\n",
    "car = 0\n"
   ]
  },
  {
   "cell_type": "code",
   "execution_count": 3,
   "id": "7e92e656",
   "metadata": {},
   "outputs": [],
   "source": [
    "def center_object( x, y, w, h):\n",
    "    x1 = int(w / 2)\n",
    "    y1 = int(h / 2)\n",
    "    cx = x + x1\n",
    "    cy = y + y1\n",
    "    return cx, cy"
   ]
  },
  {
   "cell_type": "code",
   "execution_count": 4,
   "id": "c199e31a",
   "metadata": {},
   "outputs": [],
   "source": [
    "def process_frame_MobileNetSSD(next_frame):\n",
    "    global car\n",
    "\n",
    "    rgb = cv2.cvtColor(next_frame, cv2.COLOR_BGR2RGB)\n",
    "    (H, W) = next_frame.shape[:2]\n",
    "    \n",
    "    blob = cv2.dnn.blobFromImage(next_frame, size=(300, 300), ddepth=cv2.CV_8U)\n",
    "    net.setInput(blob, scalefactor=1.0/127.5, mean=[127.5, 127.5, 127.5])\n",
    "    detections = net.forward()\n",
    "\n",
    "    # Loop over the detections\n",
    "    for i in np.arange(0, detections.shape[2]):\n",
    "\n",
    "        confidence = detections[0, 0, i, 2]\n",
    "        \n",
    "        if confidence > 0.1:\n",
    "\n",
    "            idx = int(detections[0, 0, i, 1])\n",
    "            if CLASSES[idx] != \"car\":\n",
    "                continue\n",
    "\n",
    "            label = CLASSES[idx]\n",
    "            \n",
    "            box = detections[0, 0, i, 3:7] * np.array([W, H, W, H])\n",
    "            (startX, startY, endX, endY) = box.astype(\"int\")\n",
    "            \n",
    "            center_ob = center_object(startX, startY, endX-startX, endY-startY)\n",
    "            cv2.circle(next_frame, center_ob, 4, (0, 0,255), -1)\n",
    "            \n",
    "            if center_ob[1]<(pos_line+offset) and center_ob[1]>(pos_line-offset):\n",
    "                car+=1\n",
    "\n",
    "\n",
    "            cv2.putText(next_frame, label+' '+str(round(confidence,2)),(startX, startY-10), cv2.FONT_HERSHEY_TRIPLEX, 1, (0,0,255), 2 )\n",
    "            cv2.rectangle(next_frame, (startX, startY), (endX, endY),(0, 255, 0), 3)\n",
    "    \n",
    "    return next_frame"
   ]
  },
  {
   "cell_type": "code",
   "execution_count": 5,
   "id": "64ba813d",
   "metadata": {},
   "outputs": [],
   "source": [
    "def VehicheDetection_UsingMobileNetSSD(filename):\n",
    "    cap = cv2.VideoCapture(filename)\n",
    "    global car\n",
    "    \n",
    "    frame_count = 0\n",
    "    \n",
    "    while True:\n",
    "        ret, next_frame = cap.read()\n",
    "        \n",
    "        if ret == False: break\n",
    "        \n",
    "        frame_count += 1\n",
    "        cv2.line(next_frame, (25, pos_line), (1200, pos_line), (255,127,0), 3)\n",
    "        next_frame = process_frame_MobileNetSSD(next_frame)\n",
    "        \n",
    "        cv2.putText(next_frame, \"Kendaraan Lewat : \"+str(car), (450, 70), cv2.FONT_HERSHEY_TRIPLEX, 2, (0,0,255), 2)\n",
    "        cv2.imshow(\"Video Original\", next_frame)\n",
    "        \n",
    "        if cv2.waitKey(1) & 0xFF == ord('q'):\n",
    "            break\n",
    "        \n",
    "    print(\"/MobileNetSSD Car Detectior\")\n",
    "        \n",
    "    cap.release()\n",
    "    cv2.destroyAllWindows()"
   ]
  },
  {
   "cell_type": "code",
   "execution_count": 6,
   "id": "8f54e506",
   "metadata": {},
   "outputs": [
    {
     "name": "stdout",
     "output_type": "stream",
     "text": [
      "/MobileNetSSD Car Detectior\n"
     ]
    }
   ],
   "source": [
    "filename = 'video.mp4'\n",
    "VehicheDetection_UsingMobileNetSSD(filename)"
   ]
  },
  {
   "cell_type": "code",
   "execution_count": null,
   "id": "70ade272",
   "metadata": {},
   "outputs": [],
   "source": []
  },
  {
   "cell_type": "code",
   "execution_count": null,
   "id": "ba020ae0",
   "metadata": {},
   "outputs": [],
   "source": []
  },
  {
   "cell_type": "code",
   "execution_count": null,
   "id": "cd9994c8",
   "metadata": {},
   "outputs": [],
   "source": []
  },
  {
   "cell_type": "code",
   "execution_count": null,
   "id": "bc1bfcbe",
   "metadata": {},
   "outputs": [],
   "source": []
  }
 ],
 "metadata": {
  "kernelspec": {
   "display_name": "Python 3",
   "language": "python",
   "name": "python3"
  },
  "language_info": {
   "codemirror_mode": {
    "name": "ipython",
    "version": 3
   },
   "file_extension": ".py",
   "mimetype": "text/x-python",
   "name": "python",
   "nbconvert_exporter": "python",
   "pygments_lexer": "ipython3",
   "version": "3.10.5"
  }
 },
 "nbformat": 4,
 "nbformat_minor": 5
}
